{
  "nbformat": 4,
  "nbformat_minor": 0,
  "metadata": {
    "colab": {
      "name": "list comprehension.ipynb",
      "provenance": [],
      "authorship_tag": "ABX9TyMNUe9NA+nYy1i7eY+G8+Y6",
      "include_colab_link": true
    },
    "kernelspec": {
      "name": "python3",
      "display_name": "Python 3"
    },
    "language_info": {
      "name": "python"
    }
  },
  "cells": [
    {
      "cell_type": "markdown",
      "metadata": {
        "id": "view-in-github",
        "colab_type": "text"
      },
      "source": [
        "<a href=\"https://colab.research.google.com/github/krcit/python-examples/blob/main/list_comprehension.ipynb\" target=\"_parent\"><img src=\"https://colab.research.google.com/assets/colab-badge.svg\" alt=\"Open In Colab\"/></a>"
      ]
    },
    {
      "cell_type": "code",
      "metadata": {
        "colab": {
          "base_uri": "https://localhost:8080/"
        },
        "id": "DhFy5207JYCE",
        "outputId": "72f54dff-2265-4200-d9be-10f307c0ee6c"
      },
      "source": [
        "[i for i in range(5)]"
      ],
      "execution_count": 1,
      "outputs": [
        {
          "output_type": "execute_result",
          "data": {
            "text/plain": [
              "[0, 1, 2, 3, 4]"
            ]
          },
          "metadata": {},
          "execution_count": 1
        }
      ]
    },
    {
      "cell_type": "code",
      "metadata": {
        "colab": {
          "base_uri": "https://localhost:8080/"
        },
        "id": "F9KZyNjDLhZm",
        "outputId": "bba4cf86-459d-46b1-c1f6-2fdfd5114fc8"
      },
      "source": [
        "[i**2 for i in range(1, 6)]"
      ],
      "execution_count": 2,
      "outputs": [
        {
          "output_type": "execute_result",
          "data": {
            "text/plain": [
              "[1, 4, 9, 16, 25]"
            ]
          },
          "metadata": {},
          "execution_count": 2
        }
      ]
    },
    {
      "cell_type": "code",
      "metadata": {
        "colab": {
          "base_uri": "https://localhost:8080/"
        },
        "id": "ms2No8XhLxN6",
        "outputId": "3a0a737e-810b-4006-99cd-604138c07e23"
      },
      "source": [
        "[[i] for i in range(1, 6)]"
      ],
      "execution_count": 5,
      "outputs": [
        {
          "output_type": "execute_result",
          "data": {
            "text/plain": [
              "[[1], [2], [3], [4], [5]]"
            ]
          },
          "metadata": {},
          "execution_count": 5
        }
      ]
    },
    {
      "cell_type": "code",
      "metadata": {
        "colab": {
          "base_uri": "https://localhost:8080/"
        },
        "id": "hkvbfMQqMIiP",
        "outputId": "3a97db9d-f2da-4ace-eb44-06b1735bb2bd"
      },
      "source": [
        "[[i, i**2] for i in range(1, 6)]"
      ],
      "execution_count": 6,
      "outputs": [
        {
          "output_type": "execute_result",
          "data": {
            "text/plain": [
              "[[1, 1], [2, 4], [3, 9], [4, 16], [5, 25]]"
            ]
          },
          "metadata": {},
          "execution_count": 6
        }
      ]
    },
    {
      "cell_type": "code",
      "metadata": {
        "colab": {
          "base_uri": "https://localhost:8080/"
        },
        "id": "4Z4BUvdPMSxX",
        "outputId": "2d35e0e8-4139-4a5b-abc1-14df49c3f884"
      },
      "source": [
        "list = [1, 2, 3, 4, 5, 6]\n",
        "new_list = []\n",
        "for i in list:\n",
        "  if not i%2 ==0:\n",
        "    new_list.append(i**2)\n",
        "print(new_list)"
      ],
      "execution_count": 9,
      "outputs": [
        {
          "output_type": "stream",
          "name": "stdout",
          "text": [
            "[1, 9, 25]\n"
          ]
        }
      ]
    },
    {
      "cell_type": "code",
      "metadata": {
        "colab": {
          "base_uri": "https://localhost:8080/"
        },
        "id": "i7dE6FAjU8ls",
        "outputId": "5745e8fa-8657-4d4f-f23d-1571c8ed0864"
      },
      "source": [
        "list = [1, 2, 3, 4, 5, 6]\n",
        "[i**2 for i in list]"
      ],
      "execution_count": 20,
      "outputs": [
        {
          "output_type": "execute_result",
          "data": {
            "text/plain": [
              "[1, 4, 9, 16, 25, 36]"
            ]
          },
          "metadata": {},
          "execution_count": 20
        }
      ]
    },
    {
      "cell_type": "code",
      "metadata": {
        "colab": {
          "base_uri": "https://localhost:8080/"
        },
        "id": "UVelo73OWxOW",
        "outputId": "0a0e1bc1-d1e8-4cb2-f6d3-9c41cd51b0a9"
      },
      "source": [
        "list = [1, 2, 3, 4, 5, 6]\n",
        "[i**2 for i in list if i%2]"
      ],
      "execution_count": 21,
      "outputs": [
        {
          "output_type": "execute_result",
          "data": {
            "text/plain": [
              "[1, 9, 25]"
            ]
          },
          "metadata": {},
          "execution_count": 21
        }
      ]
    },
    {
      "cell_type": "code",
      "metadata": {
        "colab": {
          "base_uri": "https://localhost:8080/"
        },
        "id": "wYkGYdF3Vgnd",
        "outputId": "57553c25-e153-4d72-cb66-32bbd3856883"
      },
      "source": [
        "list = [1, 2, 3, 4, 5, 6]\n",
        "[i**2 for i in list if not i%2]"
      ],
      "execution_count": 22,
      "outputs": [
        {
          "output_type": "execute_result",
          "data": {
            "text/plain": [
              "[4, 16, 36]"
            ]
          },
          "metadata": {},
          "execution_count": 22
        }
      ]
    }
  ]
}