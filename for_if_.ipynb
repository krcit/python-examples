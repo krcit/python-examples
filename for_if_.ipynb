{
  "nbformat": 4,
  "nbformat_minor": 0,
  "metadata": {
    "colab": {
      "name": "for if .ipynb",
      "provenance": [],
      "collapsed_sections": [],
      "authorship_tag": "ABX9TyNYxuceAcihZPnXAlKXxCSK",
      "include_colab_link": true
    },
    "kernelspec": {
      "name": "python3",
      "display_name": "Python 3"
    },
    "language_info": {
      "name": "python"
    }
  },
  "cells": [
    {
      "cell_type": "markdown",
      "metadata": {
        "id": "view-in-github",
        "colab_type": "text"
      },
      "source": [
        "<a href=\"https://colab.research.google.com/github/krcit/python-examples/blob/main/for_if_.ipynb\" target=\"_parent\"><img src=\"https://colab.research.google.com/assets/colab-badge.svg\" alt=\"Open In Colab\"/></a>"
      ]
    },
    {
      "cell_type": "code",
      "metadata": {
        "colab": {
          "base_uri": "https://localhost:8080/"
        },
        "id": "Fu0Bm660PHjw",
        "outputId": "47e3f368-9f5d-459b-abf1-942b130cce9b"
      },
      "source": [
        "iterable = [1, 2, 3, 4]\n",
        "for a in iterable :\n",
        "  print(a**2)"
      ],
      "execution_count": null,
      "outputs": [
        {
          "output_type": "stream",
          "name": "stdout",
          "text": [
            "1\n",
            "4\n",
            "9\n",
            "16\n"
          ]
        }
      ]
    },
    {
      "cell_type": "code",
      "metadata": {
        "id": "f9iIjs8Yx0LN"
      },
      "source": [
        "names = [\"Ahmet\", \"Mehmet\", \"Ali\", \"Veli\"]\n",
        "for i in names:\n",
        "  print(\"Hello,\", i )"
      ],
      "execution_count": null,
      "outputs": []
    },
    {
      "cell_type": "code",
      "metadata": {
        "id": "GuxSGQHzx3H8"
      },
      "source": [
        "list_m = range(1,6)\n",
        "listem = []\n",
        "for i in list_m :\n",
        "  listem.append(i)\n",
        "print(listem)"
      ],
      "execution_count": null,
      "outputs": []
    },
    {
      "cell_type": "code",
      "metadata": {
        "id": "LZz999OOx5PD"
      },
      "source": [
        "word = input(\"Please enter a word\")\n",
        "counter = 0\n",
        "for i in word :\n",
        "  counter += 1\n",
        "  if counter < len(word) :\n",
        "     i = i + \"-\"\n",
        "  print(i, end=\"\")"
      ],
      "execution_count": null,
      "outputs": []
    },
    {
      "cell_type": "code",
      "metadata": {
        "id": "QOxdRcBOx7g5"
      },
      "source": [
        "# a = range(1, 10)\n",
        "for i in range(1, 10) :\n",
        "  print(str(i) * i)"
      ],
      "execution_count": null,
      "outputs": []
    },
    {
      "cell_type": "code",
      "metadata": {
        "id": "BGytgQ3yx9Uw"
      },
      "source": [
        "evens = []\n",
        "odds = []\n",
        "for i in range(10):\n",
        "  if i % 2 == 0:\n",
        "    evens.append(i)\n",
        "  else :\n",
        "    odds.append(i)\n",
        "print(\"evens: \", evens)\n",
        "print(\"odds: \", odds)\n",
        "\n"
      ],
      "execution_count": null,
      "outputs": []
    },
    {
      "cell_type": "code",
      "metadata": {
        "id": "sxDNWBF5x_kw"
      },
      "source": [
        "liste = [11, 2, 24, 61, 48, 33, 3]\n",
        "evens = []\n",
        "odds = []\n",
        "for i in liste:\n",
        "  if i % 2 == 0:\n",
        "    evens.append(i)\n",
        "  else:\n",
        "    odds.append(i)\n",
        "total_evens = len(evens)\n",
        "total_odds = len(odds)\n",
        "print(\"The number of even numbers :\", total_evens)\n",
        "print(\"The number of odd numbers :\", total_odds)"
      ],
      "execution_count": null,
      "outputs": []
    },
    {
      "cell_type": "code",
      "metadata": {
        "id": "0hjOgXJ8yBsy"
      },
      "source": [
        "liste = [11, 2, 24, 61, 48, 33, 3]\n",
        "evens = 0\n",
        "odds = 0\n",
        "for i in liste:\n",
        "  if i % 2 == 0:\n",
        "    evens += 1\n",
        "  else:\n",
        "    odds += 1\n",
        "print(\"The number of even numbers :\", evens)\n",
        "print(\"The number of odd numbers :\", odds)"
      ],
      "execution_count": null,
      "outputs": []
    },
    {
      "cell_type": "code",
      "metadata": {
        "id": "-tQNWoNMBjIm"
      },
      "source": [
        "n = int(input(\"kaç rakam var\"))\n",
        "n_list = range(1, n+1)\n",
        "# n1 = int(input)\n",
        "for i in n_list :\n",
        "  print(i)"
      ],
      "execution_count": null,
      "outputs": []
    },
    {
      "cell_type": "code",
      "metadata": {
        "colab": {
          "base_uri": "https://localhost:8080/"
        },
        "id": "khS5XScFB7-E",
        "outputId": "b7244190-447c-477d-8670-fbef64b94d46"
      },
      "source": [
        "saved_amount = int(input('Please enter your saved amount: '))\n",
        "ps4_price = 250\n",
        "if saved_amount <= ps4_price/2:\n",
        "    print(\"You must save more, keep saving!\")\n",
        "elif saved_amount >= ps4_price:\n",
        "    print(\"Yippee! You can buy your PS4\")\n",
        "else:\n",
        "    print(\"You saved more than half, keep saving!\")"
      ],
      "execution_count": null,
      "outputs": [
        {
          "output_type": "stream",
          "name": "stdout",
          "text": [
            "Please enter your saved amount: 255\n",
            "Yippee! You can buy your PS4\n"
          ]
        }
      ]
    },
    {
      "cell_type": "code",
      "metadata": {
        "colab": {
          "base_uri": "https://localhost:8080/"
        },
        "id": "FgJ2tNElGG9T",
        "outputId": "09ba73cb-4225-4872-9b2a-48ffb24cab71"
      },
      "source": [
        "math_mark = int(input('Please enter the mark: '))\n",
        "if math_mark <= 44:\n",
        "  print(\"F (Failed)\")\n",
        "elif math_mark <= 59:\n",
        "  print(\"D (Not Bad)\")\n",
        "elif math_mark <= 69:\n",
        "  print(\"C (Medium)\") \n",
        "elif math_mark <= 84:\n",
        "  print(\"B (Good)\")\n",
        "else:\n",
        "  print(\"A (Excellent)\")"
      ],
      "execution_count": null,
      "outputs": [
        {
          "output_type": "stream",
          "name": "stdout",
          "text": [
            "Please enter the mark: 23\n",
            "F (Failed)\n"
          ]
        }
      ]
    },
    {
      "cell_type": "code",
      "metadata": {
        "colab": {
          "base_uri": "https://localhost:8080/"
        },
        "id": "kDODvaOwR-oR",
        "outputId": "1f318ff0-3163-4971-9288-2fdb77f9f793"
      },
      "source": [
        "weekdays = ['Monday', 'Tuesday', 'Wednesday', 'Thursday', 'Friday']\n",
        "for day in range(len(weekdays)):\n",
        "    print('Day', day+1, ':', weekdays[day])"
      ],
      "execution_count": null,
      "outputs": [
        {
          "output_type": "stream",
          "name": "stdout",
          "text": [
            "Day 1 : Monday\n",
            "Day 2 : Tuesday\n",
            "Day 3 : Wednesday\n",
            "Day 4 : Thursday\n",
            "Day 5 : Friday\n"
          ]
        }
      ]
    },
    {
      "cell_type": "code",
      "metadata": {
        "colab": {
          "base_uri": "https://localhost:8080/"
        },
        "id": "jJsiqGqFTL4c",
        "outputId": "fbf1caad-d45c-4391-c45f-7391e2e6203a"
      },
      "source": [
        "a = 49\n",
        "while a % 2 != 0:\n",
        "    print(a)\n",
        "    a += 5"
      ],
      "execution_count": null,
      "outputs": [
        {
          "output_type": "stream",
          "name": "stdout",
          "text": [
            "49\n"
          ]
        }
      ]
    },
    {
      "cell_type": "code",
      "metadata": {
        "colab": {
          "base_uri": "https://localhost:8080/"
        },
        "id": "fzdlmvLhVJPN",
        "outputId": "c476503d-e9bb-4f0a-f3bc-dca84d6b28ab"
      },
      "source": [
        "number = int(input('Please enter a number: '))\n",
        "sayı = 0\n",
        "while sayı < number:\n",
        "  sonuç = sayı**2\n",
        "  print(sonuç)\n",
        "  sayı +=1"
      ],
      "execution_count": null,
      "outputs": [
        {
          "output_type": "stream",
          "name": "stdout",
          "text": [
            "Please enter a number: 5\n",
            "0\n",
            "1\n",
            "4\n",
            "9\n",
            "16\n"
          ]
        }
      ]
    },
    {
      "cell_type": "code",
      "metadata": {
        "colab": {
          "base_uri": "https://localhost:8080/"
        },
        "id": "ZSuBNX6ia7kK",
        "outputId": "a5986793-ec82-45b7-94a5-d8042596774c"
      },
      "source": [
        "sample_list = [{\"section\":5, \"topic\":2}, 'clarusway', [1, 4], 2020, 3.14, 1+618j, False, (10, 20)]\n",
        "for i in sample_list:\n",
        "  print(\"The type of\", i, \" is\", type(i))"
      ],
      "execution_count": null,
      "outputs": [
        {
          "output_type": "stream",
          "name": "stdout",
          "text": [
            "The type of {'section': 5, 'topic': 2}  is <class 'dict'>\n",
            "The type of clarusway  is <class 'str'>\n",
            "The type of [1, 4]  is <class 'list'>\n",
            "The type of 2020  is <class 'int'>\n",
            "The type of 3.14  is <class 'float'>\n",
            "The type of (1+618j)  is <class 'complex'>\n",
            "The type of False  is <class 'bool'>\n",
            "The type of (10, 20)  is <class 'tuple'>\n"
          ]
        }
      ]
    },
    {
      "cell_type": "code",
      "metadata": {
        "colab": {
          "base_uri": "https://localhost:8080/"
        },
        "id": "xveSrwdjdixj",
        "outputId": "6c1f11a8-ab9c-4c20-8235-dc701f39d6a2"
      },
      "source": [
        "a = 12\n",
        "type(a)"
      ],
      "execution_count": null,
      "outputs": [
        {
          "output_type": "execute_result",
          "data": {
            "text/plain": [
              "int"
            ]
          },
          "metadata": {},
          "execution_count": 59
        }
      ]
    },
    {
      "cell_type": "code",
      "metadata": {
        "colab": {
          "base_uri": "https://localhost:8080/"
        },
        "id": "3qiBNar3SNQg",
        "outputId": "900a0f73-22a3-4017-ef13-7191c9fe33b2"
      },
      "source": [
        "print(*range(11))"
      ],
      "execution_count": null,
      "outputs": [
        {
          "output_type": "stream",
          "name": "stdout",
          "text": [
            "0 1 2 3 4 5 6 7 8 9 10\n"
          ]
        }
      ]
    },
    {
      "cell_type": "code",
      "metadata": {
        "colab": {
          "base_uri": "https://localhost:8080/"
        },
        "id": "S8KKS1R5bzu8",
        "outputId": "722a6959-4ecd-4d50-d0a8-0e4213e08218"
      },
      "source": [
        "who = ['I am ', 'You are ']\n",
        "mood = ['happy', 'confident']\n",
        "for i in who:\n",
        "    for ii in mood:\n",
        "        print(i + ii)"
      ],
      "execution_count": null,
      "outputs": [
        {
          "output_type": "stream",
          "name": "stdout",
          "text": [
            "I am happy\n",
            "I am confident\n",
            "You are happy\n",
            "You are confident\n"
          ]
        }
      ]
    },
    {
      "cell_type": "code",
      "metadata": {
        "colab": {
          "base_uri": "https://localhost:8080/"
        },
        "id": "3BghjrSGAD8L",
        "outputId": "db1ad46f-96ac-4f6c-a435-2f5b6790a538"
      },
      "source": [
        "names = [\"susan\", \"tom\", \"edward\"]\n",
        "mood = [\"happy\", \"sad\"]\n",
        "for i in names:\n",
        "  for ii in mood:\n",
        "    print(i + \" is \" +ii)"
      ],
      "execution_count": 2,
      "outputs": [
        {
          "output_type": "stream",
          "name": "stdout",
          "text": [
            "susan is happy\n",
            "susan is sad\n",
            "tom is happy\n",
            "tom is sad\n",
            "edward is happy\n",
            "edward is sad\n"
          ]
        }
      ]
    },
    {
      "cell_type": "code",
      "metadata": {
        "colab": {
          "base_uri": "https://localhost:8080/"
        },
        "id": "ar8wPkdBCMYa",
        "outputId": "2828e937-145e-44bb-d48d-271e89e502ea"
      },
      "source": [
        "v = (\"five\", 5, True)\n",
        "v = (x, y, z)\n",
        "print (x, z)\n"
      ],
      "execution_count": 11,
      "outputs": [
        {
          "output_type": "stream",
          "name": "stdout",
          "text": [
            "five True\n"
          ]
        }
      ]
    },
    {
      "cell_type": "code",
      "metadata": {
        "colab": {
          "base_uri": "https://localhost:8080/"
        },
        "id": "_nRUZBoIFFJG",
        "outputId": "750beb03-4105-448a-802a-8ab08d7c9f4e"
      },
      "source": [
        "# _, == place holder\n",
        "x, y, _, _, z = (11, 12, 13, 14, 15)\n",
        "print(x, y, z)"
      ],
      "execution_count": 13,
      "outputs": [
        {
          "output_type": "stream",
          "name": "stdout",
          "text": [
            "11 12 15\n"
          ]
        }
      ]
    },
    {
      "cell_type": "code",
      "metadata": {
        "colab": {
          "base_uri": "https://localhost:8080/"
        },
        "id": "pgLjduCyF6lL",
        "outputId": "5b17455a-3d24-4367-8f3b-b4c4efda0dfa"
      },
      "source": [
        "# * itarate ediyor ve liste oluşturuyor\n",
        "x, y, *z = (11, 12, 13, 14, 15)\n",
        "print(x, y, z)"
      ],
      "execution_count": 15,
      "outputs": [
        {
          "output_type": "stream",
          "name": "stdout",
          "text": [
            "11 12 [13, 14, 15]\n"
          ]
        }
      ]
    }
  ]
}