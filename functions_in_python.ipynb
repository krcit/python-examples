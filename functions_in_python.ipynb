{
  "nbformat": 4,
  "nbformat_minor": 0,
  "metadata": {
    "colab": {
      "name": "functions in python.ipynb",
      "provenance": [],
      "authorship_tag": "ABX9TyPS/I8+lbWMOl9S3ctI1MeT",
      "include_colab_link": true
    },
    "kernelspec": {
      "name": "python3",
      "display_name": "Python 3"
    },
    "language_info": {
      "name": "python"
    }
  },
  "cells": [
    {
      "cell_type": "markdown",
      "metadata": {
        "id": "view-in-github",
        "colab_type": "text"
      },
      "source": [
        "<a href=\"https://colab.research.google.com/github/krcit/python-examples/blob/main/functions_in_python.ipynb\" target=\"_parent\"><img src=\"https://colab.research.google.com/assets/colab-badge.svg\" alt=\"Open In Colab\"/></a>"
      ]
    },
    {
      "cell_type": "code",
      "metadata": {
        "colab": {
          "base_uri": "https://localhost:8080/"
        },
        "id": "tsoB_60aYKKj",
        "outputId": "05943e67-5616-449b-daa6-0b6be4dfcd10"
      },
      "source": [
        "def add(a,b) :\n",
        "  print(a+b)\n",
        "add(3,4)"
      ],
      "execution_count": null,
      "outputs": [
        {
          "output_type": "stream",
          "name": "stdout",
          "text": [
            "7\n"
          ]
        }
      ]
    },
    {
      "cell_type": "code",
      "source": [
        "a = \"i\"\n",
        "b = \"love\"\n",
        "c = \"you\"\n",
        "texter(c, a, b)\n",
        "def texter(text1, text2, text3):\n",
        "  print(text2, text3, text1) "
      ],
      "metadata": {
        "id": "ButBlgOPjPhG"
      },
      "execution_count": null,
      "outputs": []
    },
    {
      "cell_type": "code",
      "source": [
        "def fonksiyon(x = \"ali\", y = 22) :\n",
        "  print(x, y, \"yaşındadır\")\n",
        "fonksiyon()"
      ],
      "metadata": {
        "id": "xAC2f8xnjSZC"
      },
      "execution_count": null,
      "outputs": []
    },
    {
      "cell_type": "code",
      "source": [
        "ef fonksiyon(x = \"ali\", y = 22) :\n",
        "  print(x, y, \"yaşındadır\")\n",
        "fonksiyon()"
      ],
      "metadata": {
        "id": "yG9QqjEyjUov"
      },
      "execution_count": null,
      "outputs": []
    },
    {
      "cell_type": "code",
      "metadata": {
        "colab": {
          "base_uri": "https://localhost:8080/"
        },
        "id": "Fec7FmABZZE6",
        "outputId": "1de86d47-91d1-4a56-c0a8-128f4e8c3d0f"
      },
      "source": [
        "def calculator(x, y, alt) :\n",
        "  if alt == \"+\" :\n",
        "      print(x + y)\n",
        "  elif a==\"-\" :\n",
        "    print(x-y)\n",
        "  elif a ==\"/\": \n",
        "    print(x/y)\n",
        "  elif a ==\"*\": \n",
        "    print(x*y)\n",
        "  else :\n",
        "    print(\"enter valid argument\")\n",
        "calculator(2, 3, \"*\")\n"
      ],
      "execution_count": null,
      "outputs": [
        {
          "output_type": "stream",
          "name": "stdout",
          "text": [
            "6\n"
          ]
        }
      ]
    },
    {
      "cell_type": "code",
      "metadata": {
        "colab": {
          "base_uri": "https://localhost:8080/"
        },
        "id": "bTFFxPJPeHje",
        "outputId": "4839403f-e7f9-465d-c38d-b870bdd9caa5"
      },
      "source": [
        "def calculator(x, y, alt) :\n",
        "  if alt == \"+\" :\n",
        "    return(x + y)\n",
        "  elif a==\"-\" :\n",
        "    return(x-y)\n",
        "  elif a ==\"/\": \n",
        "    return(x/y)\n",
        "  elif a ==\"*\": \n",
        "    return(x*y)\n",
        "  else :\n",
        "    print(\"enter valid argument\")\n",
        "calculator(5, 3, \"*\")"
      ],
      "execution_count": null,
      "outputs": [
        {
          "output_type": "execute_result",
          "data": {
            "text/plain": [
              "15"
            ]
          },
          "metadata": {},
          "execution_count": 24
        }
      ]
    },
    {
      "cell_type": "code",
      "metadata": {
        "colab": {
          "base_uri": "https://localhost:8080/"
        },
        "id": "AA0Kqkd4dk0u",
        "outputId": "ddbd29d9-4a24-4088-fef2-02c13393e677"
      },
      "source": [
        "def topla(x,y):\n",
        "  return x+y\n",
        "topla(3,5)\n"
      ],
      "execution_count": null,
      "outputs": [
        {
          "output_type": "execute_result",
          "data": {
            "text/plain": [
              "8"
            ]
          },
          "metadata": {},
          "execution_count": 22
        }
      ]
    },
    {
      "cell_type": "code",
      "metadata": {
        "colab": {
          "base_uri": "https://localhost:8080/"
        },
        "id": "ItbvfD6xiY_p",
        "outputId": "92a83839-ff01-4eeb-9bc5-922d9057ed97"
      },
      "source": [
        "def absolute_value(x) :\n",
        "  if x<0:\n",
        "    return -x\n",
        "  else :\n",
        "    return x\n",
        "absolute_value(0)"
      ],
      "execution_count": null,
      "outputs": [
        {
          "output_type": "execute_result",
          "data": {
            "text/plain": [
              "0"
            ]
          },
          "metadata": {},
          "execution_count": 29
        }
      ]
    }
  ]
}