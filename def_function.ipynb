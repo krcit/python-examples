{
  "nbformat": 4,
  "nbformat_minor": 0,
  "metadata": {
    "colab": {
      "name": "def function.ipynb",
      "provenance": [],
      "authorship_tag": "ABX9TyMDEPX7ooigis7c70N2TIvP",
      "include_colab_link": true
    },
    "kernelspec": {
      "name": "python3",
      "display_name": "Python 3"
    },
    "language_info": {
      "name": "python"
    }
  },
  "cells": [
    {
      "cell_type": "markdown",
      "metadata": {
        "id": "view-in-github",
        "colab_type": "text"
      },
      "source": [
        "<a href=\"https://colab.research.google.com/github/krcit/python-examples/blob/main/def_function.ipynb\" target=\"_parent\"><img src=\"https://colab.research.google.com/assets/colab-badge.svg\" alt=\"Open In Colab\"/></a>"
      ]
    },
    {
      "cell_type": "code",
      "execution_count": 1,
      "metadata": {
        "colab": {
          "base_uri": "https://localhost:8080/"
        },
        "id": "SZgoCL693Qyn",
        "outputId": "738895a3-7dea-4b20-c9b9-532700765627"
      },
      "outputs": [
        {
          "output_type": "stream",
          "name": "stdout",
          "text": [
            "13\n"
          ]
        }
      ],
      "source": [
        "def san(x):\n",
        " print(x+1)\n",
        "x=-2\n",
        "x=4\n",
        "san(12)"
      ]
    },
    {
      "cell_type": "code",
      "source": [
        "def foo(fname, val):\n",
        " print(fname(val))\n",
        "foo(max, [1, 2, 3])\n",
        "foo(min, [1, 2, 3])\n"
      ],
      "metadata": {
        "colab": {
          "base_uri": "https://localhost:8080/"
        },
        "id": "Dyoilq_O4t4b",
        "outputId": "bdd4043e-41b7-4a79-c37f-fc2e956c9246"
      },
      "execution_count": 2,
      "outputs": [
        {
          "output_type": "stream",
          "name": "stdout",
          "text": [
            "3\n",
            "1\n"
          ]
        }
      ]
    },
    {
      "cell_type": "code",
      "source": [
        "count = 0\n",
        "my_string = \"Clarusway\"\n",
        "my_char = \"a\"\n",
        "for i in my_string:\n",
        " if i == my_char:\n",
        "  count += 1\n",
        "print(count)"
      ],
      "metadata": {
        "colab": {
          "base_uri": "https://localhost:8080/"
        },
        "id": "oZPXT9H25q2c",
        "outputId": "b3b2adda-7c5a-4500-9a12-2ec24bd1f5f9"
      },
      "execution_count": 4,
      "outputs": [
        {
          "output_type": "stream",
          "name": "stdout",
          "text": [
            "2\n"
          ]
        }
      ]
    },
    {
      "cell_type": "code",
      "source": [
        "num = 2013\n",
        "reversed_num = 0\n",
        "while num != 0:\n",
        " digit = num % 10\n",
        " reversed_num = reversed_num * 10 + digit\n",
        " num //= 10\n",
        "print(reversed_num)\n"
      ],
      "metadata": {
        "colab": {
          "base_uri": "https://localhost:8080/"
        },
        "id": "F_NE51Hf7FrW",
        "outputId": "5487ad2e-5fda-4c5d-b7cc-2cb8a720c1cb"
      },
      "execution_count": 5,
      "outputs": [
        {
          "output_type": "stream",
          "name": "stdout",
          "text": [
            "3102\n"
          ]
        }
      ]
    },
    {
      "cell_type": "code",
      "source": [
        "print(2%10)"
      ],
      "metadata": {
        "colab": {
          "base_uri": "https://localhost:8080/"
        },
        "id": "yZ-5-cJm7reA",
        "outputId": "8f0eca33-7efa-43ce-955e-dc944cbf626f"
      },
      "execution_count": 8,
      "outputs": [
        {
          "output_type": "stream",
          "name": "stdout",
          "text": [
            "2\n"
          ]
        }
      ]
    }
  ]
}