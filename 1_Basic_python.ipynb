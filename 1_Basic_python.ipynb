{
  "nbformat": 4,
  "nbformat_minor": 0,
  "metadata": {
    "colab": {
      "name": "1- Basic python.ipynb",
      "provenance": [],
      "authorship_tag": "ABX9TyPm7xfBIr4phmPpxyH04Tpz",
      "include_colab_link": true
    },
    "kernelspec": {
      "name": "python3",
      "display_name": "Python 3"
    },
    "language_info": {
      "name": "python"
    }
  },
  "cells": [
    {
      "cell_type": "markdown",
      "metadata": {
        "id": "view-in-github",
        "colab_type": "text"
      },
      "source": [
        "<a href=\"https://colab.research.google.com/github/krcit/python-examples/blob/main/1_Basic_python.ipynb\" target=\"_parent\"><img src=\"https://colab.research.google.com/assets/colab-badge.svg\" alt=\"Open In Colab\"/></a>"
      ]
    },
    {
      "cell_type": "code",
      "metadata": {
        "colab": {
          "base_uri": "https://localhost:8080/"
        },
        "id": "8YrQ6h1M8j5l",
        "outputId": "0b9b439c-206b-4224-ea22-0ab1c00ab1cb"
      },
      "source": [
        "print ('Hello World')"
      ],
      "execution_count": null,
      "outputs": [
        {
          "output_type": "stream",
          "name": "stdout",
          "text": [
            "Hello World\n"
          ]
        }
      ]
    },
    {
      "cell_type": "code",
      "metadata": {
        "id": "5ChTtfYkbbah"
      },
      "source": [
        ""
      ],
      "execution_count": null,
      "outputs": []
    },
    {
      "cell_type": "code",
      "metadata": {
        "colab": {
          "base_uri": "https://localhost:8080/"
        },
        "id": "x4UVpmxk9EVy",
        "outputId": "d982cc18-1dbd-4443-f0b3-5edea95a8868"
      },
      "source": [
        "print('Emiralp&Tarik')\n"
      ],
      "execution_count": null,
      "outputs": [
        {
          "output_type": "stream",
          "name": "stdout",
          "text": [
            "Emiralp&Tarik\n"
          ]
        }
      ]
    },
    {
      "cell_type": "code",
      "metadata": {
        "colab": {
          "base_uri": "https://localhost:8080/"
        },
        "id": "bVwpHoAqAzFv",
        "outputId": "3101b7bb-adda-4f52-9811-39f9366aacd0"
      },
      "source": [
        "print('\"ali\"')"
      ],
      "execution_count": null,
      "outputs": [
        {
          "output_type": "stream",
          "name": "stdout",
          "text": [
            "\"ali\"\n"
          ]
        }
      ]
    },
    {
      "cell_type": "code",
      "metadata": {
        "colab": {
          "base_uri": "https://localhost:8080/"
        },
        "id": "xwJ1sG8zA795",
        "outputId": "c82ee26b-cf6e-47cf-ed55-67a327b5ad37"
      },
      "source": [
        "x = y = z = \"same\"\n",
        "print (x)\n",
        "print (y)\n",
        "print (z) \n",
        "\n"
      ],
      "execution_count": null,
      "outputs": [
        {
          "output_type": "stream",
          "name": "stdout",
          "text": [
            "same\n",
            "same\n",
            "same\n"
          ]
        }
      ]
    },
    {
      "cell_type": "code",
      "metadata": {
        "colab": {
          "base_uri": "https://localhost:8080/"
        },
        "id": "g3RfSbJg6-zg",
        "outputId": "99474c9d-bfd9-4468-e462-7e8a5f63d852"
      },
      "source": [
        "website = \"apple.com\"\n",
        "website = \"google.com\"\n",
        "print (website)"
      ],
      "execution_count": null,
      "outputs": [
        {
          "output_type": "stream",
          "name": "stdout",
          "text": [
            "google.com\n"
          ]
        }
      ]
    },
    {
      "cell_type": "code",
      "metadata": {
        "colab": {
          "base_uri": "https://localhost:8080/"
        },
        "id": "W1XEtRoh7ItL",
        "outputId": "d6adc342-dafc-48b7-a345-7e427470229e"
      },
      "source": [
        "type (a)\n",
        "type (website)"
      ],
      "execution_count": null,
      "outputs": [
        {
          "output_type": "execute_result",
          "data": {
            "text/plain": [
              "str"
            ]
          },
          "metadata": {},
          "execution_count": 5
        }
      ]
    },
    {
      "cell_type": "code",
      "metadata": {
        "colab": {
          "base_uri": "https://localhost:8080/"
        },
        "id": "fmnRPo487gZ6",
        "outputId": "f83d2943-04a8-4ca9-820e-7c124396418c"
      },
      "source": [
        "int(\"100\")"
      ],
      "execution_count": null,
      "outputs": [
        {
          "output_type": "execute_result",
          "data": {
            "text/plain": [
              "100"
            ]
          },
          "metadata": {},
          "execution_count": 6
        }
      ]
    },
    {
      "cell_type": "code",
      "metadata": {
        "colab": {
          "base_uri": "https://localhost:8080/"
        },
        "id": "FSoNwLfW7nBF",
        "outputId": "31225ff5-504b-4cc4-99e4-f222c3006b41"
      },
      "source": [
        "print (\"ali\", \"ayşe\",)\n",
        "print (\"veli\"), (\"aslı\")\n",
        "print (\"selvi\", \"kerem\", 44, sep= \"-\")"
      ],
      "execution_count": null,
      "outputs": [
        {
          "output_type": "stream",
          "name": "stdout",
          "text": [
            "ali ayşe\n",
            "veli\n",
            "selvi-kerem-44\n"
          ]
        }
      ]
    },
    {
      "cell_type": "code",
      "metadata": {
        "colab": {
          "base_uri": "https://localhost:8080/"
        },
        "id": "xX_uAq1a8PzC",
        "outputId": "089c1014-9f13-4d4d-e5b4-9544b5e4a803"
      },
      "source": [
        "print(\"a\", end=\"            +                  \")\n",
        "print(\"b\", end=\"        =           c\")"
      ],
      "execution_count": null,
      "outputs": [
        {
          "output_type": "stream",
          "name": "stdout",
          "text": [
            "a            +                  b        =           c"
          ]
        }
      ]
    },
    {
      "cell_type": "code",
      "metadata": {
        "colab": {
          "base_uri": "https://localhost:8080/",
          "height": 35
        },
        "id": "u5uVQrQy9Q0f",
        "outputId": "f1cf3c37-4864-4998-cb34-63c865de6bb9"
      },
      "source": [
        "kus = \"kartal\"\n",
        "kus[2]"
      ],
      "execution_count": null,
      "outputs": [
        {
          "output_type": "execute_result",
          "data": {
            "application/vnd.google.colaboratory.intrinsic+json": {
              "type": "string"
            },
            "text/plain": [
              "'r'"
            ]
          },
          "metadata": {},
          "execution_count": 25
        }
      ]
    },
    {
      "cell_type": "code",
      "metadata": {
        "colab": {
          "base_uri": "https://localhost:8080/"
        },
        "id": "HZjnUkcRBsB8",
        "outputId": "cdf5fe54-c8e5-465e-a741-d5d0277a7072"
      },
      "source": [
        "'hello'\n",
        "4\n",
        "7.0\n",
        "print (type('hello'), type(4), type(7.0), sep='\\n')"
      ],
      "execution_count": null,
      "outputs": [
        {
          "output_type": "stream",
          "name": "stdout",
          "text": [
            "<class 'str'>\n",
            "<class 'int'>\n",
            "<class 'float'>\n"
          ]
        }
      ]
    },
    {
      "cell_type": "code",
      "metadata": {
        "colab": {
          "base_uri": "https://localhost:8080/"
        },
        "id": "holEElj3B5eA",
        "outputId": "d05983fd-4718-4300-8e77-4096bd40eb3c"
      },
      "source": [
        "text1 = \"it is\"\n",
        "text2 = \"easy\"\n",
        "print(text1 + ' ' + text2)"
      ],
      "execution_count": null,
      "outputs": [
        {
          "output_type": "stream",
          "name": "stdout",
          "text": [
            "it is easy\n"
          ]
        }
      ]
    },
    {
      "cell_type": "code",
      "metadata": {
        "colab": {
          "base_uri": "https://localhost:8080/"
        },
        "id": "bevIIUj6LN4y",
        "outputId": "870e3ff5-3126-4b3e-a964-a17fc12ed54a"
      },
      "source": [
        "text = \"wwww.office.com\"\n",
        "print(text.endswith(\".com\"))\n",
        "print(text.startswith(\"http\"))"
      ],
      "execution_count": null,
      "outputs": [
        {
          "output_type": "stream",
          "name": "stdout",
          "text": [
            "True\n",
            "False\n"
          ]
        }
      ]
    },
    {
      "cell_type": "code",
      "metadata": {
        "colab": {
          "base_uri": "https://localhost:8080/"
        },
        "id": "i3Sri3ElLdqj",
        "outputId": "4eba7972-cbdd-4db0-c8c0-c4f47c67be93"
      },
      "source": [
        "text = \"the better the family, the better the society\"\n",
        "yeni_text = text.title()\n",
        "print (yeni_text)"
      ],
      "execution_count": null,
      "outputs": [
        {
          "output_type": "stream",
          "name": "stdout",
          "text": [
            "The Better The Family, The Better The Society\n"
          ]
        }
      ]
    },
    {
      "cell_type": "code",
      "metadata": {
        "colab": {
          "base_uri": "https://localhost:8080/"
        },
        "id": "kcPnfoTaLjc-",
        "outputId": "141b4140-de34-436f-94f5-2a787501f0c9"
      },
      "source": [
        "text = \"S0d0me and G0m0re\"\n",
        "text1 = text.replace(\"0\", \"o\")\n",
        "print (text1)"
      ],
      "execution_count": null,
      "outputs": [
        {
          "output_type": "stream",
          "name": "stdout",
          "text": [
            "Sodome and Gomore\n"
          ]
        }
      ]
    },
    {
      "cell_type": "code",
      "metadata": {
        "colab": {
          "base_uri": "https://localhost:8080/"
        },
        "id": "r-qVvV92L1l6",
        "outputId": "712e6c7b-9919-402c-df5b-fe8d39e8871d"
      },
      "source": [
        "space_string = (\"       bugün hava çok güzel   r   \")\n",
        "print(space_string + \"aa\")\n",
        "print(space_string.lstrip() + \"aa\")\n",
        "print(space_string.rstrip() + \"aa\")\n",
        "print(space_string.strip() + \"aa\")"
      ],
      "execution_count": null,
      "outputs": [
        {
          "output_type": "stream",
          "name": "stdout",
          "text": [
            "       bugün hava çok güzel   r   aa\n",
            "bugün hava çok güzel   r   aa\n",
            "       bugün hava çok güzel   raa\n",
            "bugün hava çok güzel   raa\n"
          ]
        }
      ]
    },
    {
      "cell_type": "code",
      "metadata": {
        "colab": {
          "base_uri": "https://localhost:8080/"
        },
        "id": "zQ4h8sdxOMDj",
        "outputId": "fd77b665-ad94-4505-d280-794d6c804388"
      },
      "source": [
        "text = \"interoraperability\"\n",
        "print (text.strip (\"i\"))"
      ],
      "execution_count": null,
      "outputs": [
        {
          "output_type": "stream",
          "name": "stdout",
          "text": [
            "nteroraperability\n"
          ]
        }
      ]
    },
    {
      "cell_type": "code",
      "metadata": {
        "colab": {
          "base_uri": "https://localhost:8080/"
        },
        "id": "cSPAtoWgORuG",
        "outputId": "e6b47071-ada4-48db-aef8-38261d971f72"
      },
      "source": [
        "text = \"tyou can learn almost everything in pre-classz\"\n",
        "print(text.strip(\"tz\").upper())"
      ],
      "execution_count": null,
      "outputs": [
        {
          "output_type": "stream",
          "name": "stdout",
          "text": [
            "YOU CAN LEARN ALMOST EVERYTHING IN PRE-CLASS\n"
          ]
        }
      ]
    },
    {
      "cell_type": "code",
      "metadata": {
        "colab": {
          "base_uri": "https://localhost:8080/"
        },
        "id": "3rULtt4RRNzg",
        "outputId": "f04828b6-a5eb-463d-bf3b-6b2fe2e6097e"
      },
      "source": [
        "city = \"SARAJEVO\"\n",
        "text = f\"I live in {city.capitalize()}\"\n",
        "print(text)"
      ],
      "execution_count": null,
      "outputs": [
        {
          "output_type": "stream",
          "name": "stdout",
          "text": [
            "I live in Sarajevo\n"
          ]
        }
      ]
    },
    {
      "cell_type": "code",
      "metadata": {
        "colab": {
          "base_uri": "https://localhost:8080/"
        },
        "id": "HD-7J_ySRRC2",
        "outputId": "f7bc02ea-e6a5-4809-fdc1-9ac276082d93"
      },
      "source": [
        "month = \"february\"\n",
        "text = f\"{month.title()}\"\n",
        "print(text)"
      ],
      "execution_count": null,
      "outputs": [
        {
          "output_type": "stream",
          "name": "stdout",
          "text": [
            "February\n"
          ]
        }
      ]
    },
    {
      "cell_type": "code",
      "metadata": {
        "id": "gRctpxLQRqTf",
        "colab": {
          "base_uri": "https://localhost:8080/"
        },
        "outputId": "6df11f1c-fd8b-488e-eb60-84cb326c1a9d"
      },
      "source": [
        "text = \"Clarusway Clarusway Clarusway\"\n",
        "output = \"Clarusway Clarusway Clarusway\\n\\t Clarusway Clarusway Clarusway\\n\\t\\t Clarusway Clarusway Clarusway\"\n",
        "print(output)\n"
      ],
      "execution_count": null,
      "outputs": [
        {
          "output_type": "stream",
          "name": "stdout",
          "text": [
            "Clarusway Clarusway Clarusway\n",
            "\t Clarusway Clarusway Clarusway\n",
            "\t\t Clarusway Clarusway Clarusway\n"
          ]
        }
      ]
    },
    {
      "cell_type": "code",
      "metadata": {
        "colab": {
          "base_uri": "https://localhost:8080/"
        },
        "id": "ja4yJno_beKX",
        "outputId": "c1020743-b404-4a57-bef7-0139378353d9"
      },
      "source": [
        "name = input(\"what is your first name\")\n",
        "last_name = input(\"what is your last name\")\n",
        "# print(\"Hello \" + name.capitalize() + \" a\" + last_name.capitalize() + \" welcome on board.\")\n",
        "# print(\"Hello, \" \"{1} {0}\".format(name.capitalize(), last_name.upper()))\n",
        "output = (\"Hello, \" \"{1} {0}\".format(name.capitalize(), last_name.upper()))\n",
        "print(output)"
      ],
      "execution_count": null,
      "outputs": [
        {
          "output_type": "stream",
          "name": "stdout",
          "text": [
            "what is your first nameali\n",
            "what is your last namealkk\n",
            "Hello, ALKK Ali\n"
          ]
        }
      ]
    },
    {
      "cell_type": "code",
      "metadata": {
        "id": "4OzISfDcbq7j"
      },
      "source": [
        "gün_sayısı = 22\n",
        "ay = input(\"hangi ay\")\n",
        "print(ay.capitalize() + \" içindeki gün sayısı = \" + str(gün_sayısı))"
      ],
      "execution_count": null,
      "outputs": []
    },
    {
      "cell_type": "code",
      "metadata": {
        "id": "2VWRxRh5cYcZ"
      },
      "source": [
        "sentence = \"I live and work in Ankara\"\n",
        "yeni = sentence.replace(\"live\", \"love\")\n",
        "yeni_1 = sentence.lower().replace(\"a\", \"i\", 15)\n",
        "print(sentence)\n",
        "print(yeni)\n",
        "print(yeni_1)"
      ],
      "execution_count": null,
      "outputs": []
    }
  ]
}