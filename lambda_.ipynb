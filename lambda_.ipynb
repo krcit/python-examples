{
  "nbformat": 4,
  "nbformat_minor": 0,
  "metadata": {
    "colab": {
      "name": "lambda .ipynb",
      "provenance": [],
      "authorship_tag": "ABX9TyNmivtJvFLBzJd6nzLqNyef",
      "include_colab_link": true
    },
    "kernelspec": {
      "name": "python3",
      "display_name": "Python 3"
    },
    "language_info": {
      "name": "python"
    }
  },
  "cells": [
    {
      "cell_type": "markdown",
      "metadata": {
        "id": "view-in-github",
        "colab_type": "text"
      },
      "source": [
        "<a href=\"https://colab.research.google.com/github/krcit/python-examples/blob/main/lambda_.ipynb\" target=\"_parent\"><img src=\"https://colab.research.google.com/assets/colab-badge.svg\" alt=\"Open In Colab\"/></a>"
      ]
    },
    {
      "cell_type": "code",
      "execution_count": 9,
      "metadata": {
        "colab": {
          "base_uri": "https://localhost:8080/",
          "height": 35
        },
        "id": "DuN8yQn_GIKw",
        "outputId": "aaf5cd96-2eca-47f7-90bd-52c3e7c20ca9"
      },
      "outputs": [
        {
          "output_type": "execute_result",
          "data": {
            "application/vnd.google.colaboratory.intrinsic+json": {
              "type": "string"
            },
            "text/plain": [
              "'even'"
            ]
          },
          "metadata": {},
          "execution_count": 9
        }
      ],
      "source": [
        "(lambda x : \"odd\" if x%2 != 0 else \"even\")(2)"
      ]
    },
    {
      "cell_type": "code",
      "source": [
        "(lambda x : \"odd\" if x%2 != 0 else \"even\")(3)"
      ],
      "metadata": {
        "colab": {
          "base_uri": "https://localhost:8080/",
          "height": 35
        },
        "id": "co9kPP2wsokr",
        "outputId": "27c1fa12-2c4b-4b1b-98db-386471e61a20"
      },
      "execution_count": 10,
      "outputs": [
        {
          "output_type": "execute_result",
          "data": {
            "application/vnd.google.colaboratory.intrinsic+json": {
              "type": "string"
            },
            "text/plain": [
              "'odd'"
            ]
          },
          "metadata": {},
          "execution_count": 10
        }
      ]
    },
    {
      "cell_type": "code",
      "source": [
        "(lambda a,b : (a+b)/2)(3, 5)"
      ],
      "metadata": {
        "colab": {
          "base_uri": "https://localhost:8080/"
        },
        "id": "MWXapOhvtm5n",
        "outputId": "eb9bd562-a0e7-453b-dca0-9c829e6381eb"
      },
      "execution_count": 12,
      "outputs": [
        {
          "output_type": "execute_result",
          "data": {
            "text/plain": [
              "4.0"
            ]
          },
          "metadata": {},
          "execution_count": 12
        }
      ]
    },
    {
      "cell_type": "code",
      "source": [
        "print((lambda a,b : (a+b)/2)(3, 5))"
      ],
      "metadata": {
        "colab": {
          "base_uri": "https://localhost:8080/"
        },
        "id": "bS8F6WCpuRLU",
        "outputId": "4440d6a4-6036-49c2-96f4-970cdcd7c32b"
      },
      "execution_count": 13,
      "outputs": [
        {
          "output_type": "stream",
          "name": "stdout",
          "text": [
            "4.0\n"
          ]
        }
      ]
    },
    {
      "cell_type": "code",
      "source": [
        "print((lambda x : x[::-1] )(\"ali\"))"
      ],
      "metadata": {
        "colab": {
          "base_uri": "https://localhost:8080/"
        },
        "id": "xiV_uDBBuZNO",
        "outputId": "f0cd15c7-b118-4785-a968-905a65dd3b91"
      },
      "execution_count": 14,
      "outputs": [
        {
          "output_type": "stream",
          "name": "stdout",
          "text": [
            "ila\n"
          ]
        }
      ]
    },
    {
      "cell_type": "code",
      "source": [
        "(lambda x : x[::-1] )(\"ali\")"
      ],
      "metadata": {
        "colab": {
          "base_uri": "https://localhost:8080/",
          "height": 35
        },
        "id": "PUlwJrfTswLj",
        "outputId": "4f5f84bb-070f-4945-9653-4397378eeb7f"
      },
      "execution_count": 11,
      "outputs": [
        {
          "output_type": "execute_result",
          "data": {
            "application/vnd.google.colaboratory.intrinsic+json": {
              "type": "string"
            },
            "text/plain": [
              "'ila'"
            ]
          },
          "metadata": {},
          "execution_count": 11
        }
      ]
    },
    {
      "cell_type": "code",
      "source": [
        "numbers = [1, 2, 3, 4, 5, 6]\n",
        "for i in numbers:\n",
        "  print(i, \":\", (lambda x :  \"odd\" if x%2 != 0 else \"even\") (i))"
      ],
      "metadata": {
        "colab": {
          "base_uri": "https://localhost:8080/"
        },
        "id": "mr5BG2Y5uoC5",
        "outputId": "4d1ac9db-a774-4e67-9d1a-5764bcb98c44"
      },
      "execution_count": 18,
      "outputs": [
        {
          "output_type": "stream",
          "name": "stdout",
          "text": [
            "1 : odd\n",
            "2 : even\n",
            "3 : odd\n",
            "4 : even\n",
            "5 : odd\n",
            "6 : even\n"
          ]
        }
      ]
    },
    {
      "cell_type": "code",
      "source": [
        "finder = (lambda x : \"odd\" if x%2 != 0 else \"even\")\n",
        "print(finder(2))"
      ],
      "metadata": {
        "colab": {
          "base_uri": "https://localhost:8080/"
        },
        "id": "GC0t6l5wxnpn",
        "outputId": "24045482-2fb6-4f96-d2ca-1c20694d9650"
      },
      "execution_count": 19,
      "outputs": [
        {
          "output_type": "stream",
          "name": "stdout",
          "text": [
            "even\n"
          ]
        }
      ]
    },
    {
      "cell_type": "code",
      "source": [
        "reverse = (lambda x : x[::-1] )\n",
        "print(reverse(\"ali\"))"
      ],
      "metadata": {
        "colab": {
          "base_uri": "https://localhost:8080/"
        },
        "id": "bFJmIE5sx2lh",
        "outputId": "ab16deeb-0b41-47fe-81ca-941dca86dbde"
      },
      "execution_count": 21,
      "outputs": [
        {
          "output_type": "stream",
          "name": "stdout",
          "text": [
            "ila\n"
          ]
        }
      ]
    },
    {
      "cell_type": "code",
      "source": [
        "fonksiyon = lambda x : x**2\n",
        "liste = [1, 2, 3, 4, 5, 6]\n",
        "sonuç = map(fonksiyon, liste)\n",
        "print(*sonuç)"
      ],
      "metadata": {
        "colab": {
          "base_uri": "https://localhost:8080/"
        },
        "id": "Cgq0CTw3y47H",
        "outputId": "63d65251-31e0-47d2-8da0-f05d9a0c8a5e"
      },
      "execution_count": 28,
      "outputs": [
        {
          "output_type": "stream",
          "name": "stdout",
          "text": [
            "1 4 9 16 25 36\n"
          ]
        }
      ]
    },
    {
      "cell_type": "code",
      "source": [
        "sonuç = map(lambda x : x**2, [1, 2, 3, 4, 5, 6])\n",
        "print(*sonuç)"
      ],
      "metadata": {
        "colab": {
          "base_uri": "https://localhost:8080/"
        },
        "id": "2fKLA1DD0kkd",
        "outputId": "85374be8-7bd5-4156-ca26-30946b35ae0b"
      },
      "execution_count": 29,
      "outputs": [
        {
          "output_type": "stream",
          "name": "stdout",
          "text": [
            "1 4 9 16 25 36\n"
          ]
        }
      ]
    },
    {
      "cell_type": "code",
      "source": [
        "num1 = [9, 6, 7, 4]\n",
        "num2 = [3, 6, 5, 8]\n",
        "sonuç = map((lambda x, y : (x+y)/2), num1, num2)\n",
        "print(tuple(sonuç))"
      ],
      "metadata": {
        "colab": {
          "base_uri": "https://localhost:8080/"
        },
        "id": "abFdm6SB4mVe",
        "outputId": "5aa55216-4d43-4735-c640-be08bbda3e54"
      },
      "execution_count": 31,
      "outputs": [
        {
          "output_type": "stream",
          "name": "stdout",
          "text": [
            "(6.0, 6.0, 6.0, 6.0)\n"
          ]
        }
      ]
    },
    {
      "cell_type": "code",
      "source": [
        "words1 = [\"you\", \"much\", \"hard\"]\n",
        "words2 = [\"i\", \"you\", \"he\"]\n",
        "words3 = [\"love\", \"ate\", \"works\"]\n",
        "fonks = lambda x, y, z : x + \" \" + y + \" \" + z + \" \"\n",
        "sonuç = map(fonks, words2, words3, words1)\n",
        "print(*sonuç)"
      ],
      "metadata": {
        "colab": {
          "base_uri": "https://localhost:8080/"
        },
        "id": "vKcBEPnK50z7",
        "outputId": "acc06a04-30f1-4e45-aff7-3a6cdab71407"
      },
      "execution_count": 36,
      "outputs": [
        {
          "output_type": "stream",
          "name": "stdout",
          "text": [
            "i love you  you ate much  he works hard \n"
          ]
        }
      ]
    },
    {
      "cell_type": "code",
      "source": [
        "words = [\"apple\", \"swim\", \"clock\", \"me\", \"kiwi\", \"banana\"]\n",
        "# func = lamda x : len(x) < 5\n",
        "son = filter(lambda x : len(x) < 5, words)\n",
        "print(*son)"
      ],
      "metadata": {
        "colab": {
          "base_uri": "https://localhost:8080/"
        },
        "id": "WVX22Pb8-vgy",
        "outputId": "cbb46469-6ba9-4ac4-b344-cd957e6ea257"
      },
      "execution_count": 37,
      "outputs": [
        {
          "output_type": "stream",
          "name": "stdout",
          "text": [
            "swim me kiwi\n"
          ]
        }
      ]
    },
    {
      "cell_type": "code",
      "source": [
        ""
      ],
      "metadata": {
        "id": "fpEwYAXoBBWA"
      },
      "execution_count": null,
      "outputs": []
    }
  ]
}